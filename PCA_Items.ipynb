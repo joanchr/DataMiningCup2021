{
  "nbformat": 4,
  "nbformat_minor": 0,
  "metadata": {
    "kernelspec": {
      "display_name": "Python 3",
      "language": "python",
      "name": "python3"
    },
    "language_info": {
      "codemirror_mode": {
        "name": "ipython",
        "version": 3
      },
      "file_extension": ".py",
      "mimetype": "text/x-python",
      "name": "python",
      "nbconvert_exporter": "python",
      "pygments_lexer": "ipython3",
      "version": "3.7.4"
    },
    "colab": {
      "name": "PCA_Items.ipynb",
      "provenance": [],
      "collapsed_sections": [
        "9OqQIcqUBNm-",
        "CZZ1cFj-BNnA",
        "yeIF6vm3BNnB",
        "s_4b9-DhBNnD",
        "OVzQ0vOfBNnE"
      ]
    }
  },
  "cells": [
    {
      "cell_type": "markdown",
      "metadata": {
        "id": "--orIXmxBNm3"
      },
      "source": [
        "# Import"
      ]
    },
    {
      "cell_type": "code",
      "metadata": {
        "id": "B7YADpNlBNm4"
      },
      "source": [
        "from pyspark.sql import SparkSession"
      ],
      "execution_count": null,
      "outputs": []
    },
    {
      "cell_type": "code",
      "metadata": {
        "id": "OA8_2J7TBNm4"
      },
      "source": [
        "spark_session = SparkSession.builder.getOrCreate()"
      ],
      "execution_count": null,
      "outputs": []
    },
    {
      "cell_type": "code",
      "metadata": {
        "id": "sqibyU29BNm5"
      },
      "source": [
        "from pyspark.sql.functions import *"
      ],
      "execution_count": null,
      "outputs": []
    },
    {
      "cell_type": "markdown",
      "metadata": {
        "id": "RxnPOJigBNm5"
      },
      "source": [
        "# Read Data"
      ]
    },
    {
      "cell_type": "code",
      "metadata": {
        "id": "-4fwESIhBNm5"
      },
      "source": [
        "items = spark_session.read.option(\"inferSchema\",\"true\").csv(\"items.csv\", header=True, sep=\"|\")"
      ],
      "execution_count": null,
      "outputs": []
    },
    {
      "cell_type": "code",
      "metadata": {
        "id": "VrhKD96tBNm6"
      },
      "source": [
        "# items.show(3)"
      ],
      "execution_count": null,
      "outputs": []
    },
    {
      "cell_type": "markdown",
      "metadata": {
        "id": "KFyTozfvBNm6"
      },
      "source": [
        "# Data Preprocessing"
      ]
    },
    {
      "cell_type": "code",
      "metadata": {
        "id": "LsyRDXEOBNm7"
      },
      "source": [
        "# items.schema"
      ],
      "execution_count": null,
      "outputs": []
    },
    {
      "cell_type": "code",
      "metadata": {
        "id": "P4uMghXABNm8"
      },
      "source": [
        "items = items.withColumn(\"subtopics\",translate(items[\"subtopics\"],\"[\",\"\"))\n",
        "items = items.withColumn(\"subtopics\",translate(items[\"subtopics\"],\"]\",\"\"))"
      ],
      "execution_count": null,
      "outputs": []
    },
    {
      "cell_type": "markdown",
      "metadata": {
        "id": "ctERUiCUBNm8"
      },
      "source": [
        "### Delete Item 62676"
      ]
    },
    {
      "cell_type": "code",
      "metadata": {
        "id": "S-efGOcjBNm9"
      },
      "source": [
        "# items.select([count(when(isnull('main topic'), True))]).show()\n",
        "# items.select([count(when(isnull('subtopics'), True))]).show()\n",
        "# items.select([count(when(isnull('subtopics') & isnull('main topic'), True))]).show()\n",
        "# items.select([count(when(items[\"subtopics\"] == \"\", True))]).show()"
      ],
      "execution_count": null,
      "outputs": []
    },
    {
      "cell_type": "code",
      "metadata": {
        "id": "2bJO6eAzBNm9"
      },
      "source": [
        "# items.where((isnull('subtopics') & isnull('main topic'))).show()"
      ],
      "execution_count": null,
      "outputs": []
    },
    {
      "cell_type": "code",
      "metadata": {
        "id": "uY5liinjBNm9"
      },
      "source": [
        "# items.where(\"itemID = 62676\").show()"
      ],
      "execution_count": null,
      "outputs": []
    },
    {
      "cell_type": "code",
      "metadata": {
        "id": "NwdYQCvVBNm-"
      },
      "source": [
        "items = items.filter(items.itemID != 62676)"
      ],
      "execution_count": null,
      "outputs": []
    },
    {
      "cell_type": "code",
      "metadata": {
        "id": "Vbihh9l9BNm-"
      },
      "source": [
        "# items.where((isnull('subtopics') & isnull('main topic'))).show()"
      ],
      "execution_count": null,
      "outputs": []
    },
    {
      "cell_type": "code",
      "metadata": {
        "id": "oTNR8zJwBNm-"
      },
      "source": [
        "# items.show(3)"
      ],
      "execution_count": null,
      "outputs": []
    },
    {
      "cell_type": "markdown",
      "metadata": {
        "id": "9OqQIcqUBNm-"
      },
      "source": [
        "### Combine Main Topic and Subtopics"
      ]
    },
    {
      "cell_type": "code",
      "metadata": {
        "id": "tEXp5v7SBNm_"
      },
      "source": [
        "items = items.withColumn(\n",
        "    \"topics\", \n",
        "    when(isnull(\"main topic\"), items[\"subtopics\"]).\n",
        "    when(items[\"subtopics\"] == \"\", items[\"main topic\"]).\n",
        "    otherwise(concat(col(\"main topic\"), lit(\",\"), col(\"subtopics\")))\n",
        ") "
      ],
      "execution_count": null,
      "outputs": []
    },
    {
      "cell_type": "code",
      "metadata": {
        "id": "LZuAZi9gBNm_"
      },
      "source": [
        "# items.show(3)\n",
        "# items.where(isnull('main topic')).show(5)\n",
        "# items.where(items[\"subtopics\"] == \"\").show(3)"
      ],
      "execution_count": null,
      "outputs": []
    },
    {
      "cell_type": "code",
      "metadata": {
        "id": "KDktPh25BNm_"
      },
      "source": [
        "items = items.select(\"itemID\",\"title\",\"author\",\"publisher\",\"topics\")"
      ],
      "execution_count": null,
      "outputs": []
    },
    {
      "cell_type": "code",
      "metadata": {
        "id": "CAu_WiptBNnA"
      },
      "source": [
        "# items.show(3)"
      ],
      "execution_count": null,
      "outputs": []
    },
    {
      "cell_type": "code",
      "metadata": {
        "id": "7bI0vi9PBNnA"
      },
      "source": [
        "items = items.withColumn(\n",
        "    'topics', array_distinct(split(col(\"topics\"),\",\"))\n",
        ")"
      ],
      "execution_count": null,
      "outputs": []
    },
    {
      "cell_type": "code",
      "metadata": {
        "id": "Ed4VaQiDBNnA"
      },
      "source": [
        "# items.select(\"topics\").show(5, False)\n",
        "# items.show(3)"
      ],
      "execution_count": null,
      "outputs": []
    },
    {
      "cell_type": "markdown",
      "metadata": {
        "id": "CZZ1cFj-BNnA"
      },
      "source": [
        "### Explode into separate rows"
      ]
    },
    {
      "cell_type": "code",
      "metadata": {
        "id": "XbzguQy_BNnA"
      },
      "source": [
        "from pyspark.sql.functions import explode"
      ],
      "execution_count": null,
      "outputs": []
    },
    {
      "cell_type": "code",
      "metadata": {
        "id": "9yQmDLYtBNnB"
      },
      "source": [
        "items = items.withColumn(\"topics_splitted\", explode(items.topics))"
      ],
      "execution_count": null,
      "outputs": []
    },
    {
      "cell_type": "code",
      "metadata": {
        "id": "HVbySe9_BNnB"
      },
      "source": [
        "# items.show(5)"
      ],
      "execution_count": null,
      "outputs": []
    },
    {
      "cell_type": "code",
      "metadata": {
        "id": "sKGsbIGGBNnB"
      },
      "source": [
        "items = items.drop(\"topics\")"
      ],
      "execution_count": null,
      "outputs": []
    },
    {
      "cell_type": "code",
      "metadata": {
        "id": "4t4iKjDjBNnB"
      },
      "source": [
        "# items.show(3)"
      ],
      "execution_count": null,
      "outputs": []
    },
    {
      "cell_type": "markdown",
      "metadata": {
        "id": "yeIF6vm3BNnB"
      },
      "source": [
        "### Pivot"
      ]
    },
    {
      "cell_type": "code",
      "metadata": {
        "id": "9YX0NCDXBNnC"
      },
      "source": [
        "from pyspark.sql.functions import sum"
      ],
      "execution_count": null,
      "outputs": []
    },
    {
      "cell_type": "code",
      "metadata": {
        "id": "O7ER_N8MBNnC"
      },
      "source": [
        "spark_session.conf.set(\"spark.sql.pivotMaxValues\",25000)"
      ],
      "execution_count": null,
      "outputs": []
    },
    {
      "cell_type": "code",
      "metadata": {
        "id": "JgvxFCA2BNnC"
      },
      "source": [
        "pivot = items.groupBy(\"itemID\").pivot(\"topics_splitted\").count()"
      ],
      "execution_count": null,
      "outputs": []
    },
    {
      "cell_type": "code",
      "metadata": {
        "id": "QYkXb1MWBNnC"
      },
      "source": [
        "pivot = pivot.fillna(0)"
      ],
      "execution_count": null,
      "outputs": []
    },
    {
      "cell_type": "code",
      "metadata": {
        "id": "2bdQKprgBNnD"
      },
      "source": [
        "# pivot.show()"
      ],
      "execution_count": null,
      "outputs": []
    },
    {
      "cell_type": "markdown",
      "metadata": {
        "id": "s_4b9-DhBNnD"
      },
      "source": [
        "### Dimensionality Reduction"
      ]
    },
    {
      "cell_type": "code",
      "metadata": {
        "id": "XGri_EoxBNnD"
      },
      "source": [
        "from pyspark.mllib.linalg import Vectors\n",
        "from pyspark.mllib.linalg.distributed import RowMatrix"
      ],
      "execution_count": null,
      "outputs": []
    },
    {
      "cell_type": "code",
      "metadata": {
        "id": "hKzN-UyeBNnD"
      },
      "source": [
        "mat = pivot.drop(\"itemID\").rdd.map(lambda s : Vectors.dense(s))"
      ],
      "execution_count": null,
      "outputs": []
    },
    {
      "cell_type": "code",
      "metadata": {
        "id": "IqqPRbyXBNnE"
      },
      "source": [
        "mat = RowMatrix(mat)"
      ],
      "execution_count": null,
      "outputs": []
    },
    {
      "cell_type": "markdown",
      "metadata": {
        "id": "OVzQ0vOfBNnE"
      },
      "source": [
        "### Principal component analysis (PCA)"
      ]
    },
    {
      "cell_type": "code",
      "metadata": {
        "id": "34fEoBhABNnE"
      },
      "source": [
        "pca = mat.computePrincipalComponents(5)"
      ],
      "execution_count": null,
      "outputs": []
    },
    {
      "cell_type": "code",
      "metadata": {
        "id": "2wRXt-O8BNnE"
      },
      "source": [
        "projected = mat.multiply(pca)"
      ],
      "execution_count": null,
      "outputs": []
    },
    {
      "cell_type": "code",
      "metadata": {
        "id": "T0dy8I_jBNnF"
      },
      "source": [
        "# print(projected.rows.collect())"
      ],
      "execution_count": null,
      "outputs": []
    }
  ]
}