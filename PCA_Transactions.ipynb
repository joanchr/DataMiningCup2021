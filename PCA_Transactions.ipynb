{
  "nbformat": 4,
  "nbformat_minor": 0,
  "metadata": {
    "kernelspec": {
      "display_name": "Python 3",
      "language": "python",
      "name": "python3"
    },
    "language_info": {
      "codemirror_mode": {
        "name": "ipython",
        "version": 3
      },
      "file_extension": ".py",
      "mimetype": "text/x-python",
      "name": "python",
      "nbconvert_exporter": "python",
      "pygments_lexer": "ipython3",
      "version": "3.7.4"
    },
    "colab": {
      "name": "PCA_Transactions.ipynb",
      "provenance": [],
      "collapsed_sections": [
        "Q7s5U5MHUg_T",
        "ujm8BXLzUg_X",
        "xrfMHTBwUg_c",
        "HKqGCohcUg_e"
      ]
    }
  },
  "cells": [
    {
      "cell_type": "markdown",
      "metadata": {
        "id": "qonAMuGVUg_L"
      },
      "source": [
        "# Import"
      ]
    },
    {
      "cell_type": "code",
      "metadata": {
        "id": "louPiTwRUg_P"
      },
      "source": [
        "from pyspark.sql import SparkSession"
      ],
      "execution_count": null,
      "outputs": []
    },
    {
      "cell_type": "code",
      "metadata": {
        "id": "fCriTTCzUg_Q"
      },
      "source": [
        "spark_session = SparkSession.builder.getOrCreate()"
      ],
      "execution_count": null,
      "outputs": []
    },
    {
      "cell_type": "markdown",
      "metadata": {
        "id": "Ym9rgzGrUg_R"
      },
      "source": [
        "# Read Data"
      ]
    },
    {
      "cell_type": "code",
      "metadata": {
        "id": "js1QXqiqUg_R"
      },
      "source": [
        "transactions = spark_session.read.option(\"inferSchema\",\"true\").csv(\"transactions.csv\", header=True, sep=\"|\")"
      ],
      "execution_count": null,
      "outputs": []
    },
    {
      "cell_type": "code",
      "metadata": {
        "id": "wNUmcdNwUg_R",
        "colab": {
          "base_uri": "https://localhost:8080/"
        },
        "outputId": "99639399-faf6-4971-f1ba-38daf3b78dcd"
      },
      "source": [
        "transactions.show(3)"
      ],
      "execution_count": null,
      "outputs": [
        {
          "output_type": "stream",
          "text": [
            "+---------+------+-----+------+-----+\n",
            "|sessionID|itemID|click|basket|order|\n",
            "+---------+------+-----+------+-----+\n",
            "|        0| 21310|    1|     0|    0|\n",
            "|        1| 73018|    1|     0|    0|\n",
            "|        2| 19194|    1|     0|    0|\n",
            "+---------+------+-----+------+-----+\n",
            "only showing top 3 rows\n",
            "\n"
          ],
          "name": "stdout"
        }
      ]
    },
    {
      "cell_type": "markdown",
      "metadata": {
        "id": "3hu5vPbAUg_T"
      },
      "source": [
        "# Data Preprocessing"
      ]
    },
    {
      "cell_type": "markdown",
      "metadata": {
        "id": "Q7s5U5MHUg_T"
      },
      "source": [
        "### Add interaction level (binary, categorical, and weight based)"
      ]
    },
    {
      "cell_type": "code",
      "metadata": {
        "id": "CRZRAWnuUg_U"
      },
      "source": [
        "from pyspark.sql.functions import when,count"
      ],
      "execution_count": null,
      "outputs": []
    },
    {
      "cell_type": "code",
      "metadata": {
        "id": "Jc8cF_1jUg_U"
      },
      "source": [
        "transactions = transactions.withColumn(\n",
        "    \"binary\",\n",
        "    when(transactions[\"click\"] == 1, 1).\n",
        "    when(transactions[\"basket\"] == 1, 1).\n",
        "    when(transactions[\"order\"] == 1, 1).\n",
        "    otherwise(0)\n",
        ")"
      ],
      "execution_count": null,
      "outputs": []
    },
    {
      "cell_type": "code",
      "metadata": {
        "id": "0bRtmzKLUg_V"
      },
      "source": [
        "transactions = transactions.withColumn(\n",
        "    \"categorical\",\n",
        "    when(transactions[\"click\"] == 1, 1).\n",
        "    when(transactions[\"basket\"] == 1, 2).\n",
        "    when(transactions[\"order\"] == 1, 3).\n",
        "    otherwise(0)\n",
        ")"
      ],
      "execution_count": null,
      "outputs": []
    },
    {
      "cell_type": "code",
      "metadata": {
        "id": "ftvk37p4Ug_V"
      },
      "source": [
        "transactions = transactions.withColumn(\n",
        "    \"weight\",\n",
        "    (transactions[\"click\"] * 1) + (transactions[\"basket\"] * 2) + (transactions[\"order\"] * 3)\n",
        ")"
      ],
      "execution_count": null,
      "outputs": []
    },
    {
      "cell_type": "code",
      "metadata": {
        "id": "3Bd6rPA-Ug_W",
        "colab": {
          "base_uri": "https://localhost:8080/"
        },
        "outputId": "c3699ef2-a10b-447f-c123-3c6073f4a6c5"
      },
      "source": [
        "transactions.show(10)"
      ],
      "execution_count": null,
      "outputs": [
        {
          "output_type": "stream",
          "text": [
            "+---------+------+-----+------+-----+------+-----------+------+\n",
            "|sessionID|itemID|click|basket|order|binary|categorical|weight|\n",
            "+---------+------+-----+------+-----+------+-----------+------+\n",
            "|        0| 21310|    1|     0|    0|     1|          1|     1|\n",
            "|        1| 73018|    1|     0|    0|     1|          1|     1|\n",
            "|        2| 19194|    1|     0|    0|     1|          1|     1|\n",
            "|        3| 40250|    1|     0|    0|     1|          1|     1|\n",
            "|        4| 46107|    1|     0|    0|     1|          1|     1|\n",
            "|        5| 34217|    1|     0|    0|     1|          1|     1|\n",
            "|        6| 31436|    1|     0|    0|     1|          1|     1|\n",
            "|        7| 14576|    1|     1|    0|     1|          1|     3|\n",
            "|        7| 17731|    2|     1|    0|     1|          2|     4|\n",
            "|        8| 58723|    1|     0|    0|     1|          1|     1|\n",
            "+---------+------+-----+------+-----+------+-----------+------+\n",
            "only showing top 10 rows\n",
            "\n"
          ],
          "name": "stdout"
        }
      ]
    },
    {
      "cell_type": "markdown",
      "metadata": {
        "id": "ujm8BXLzUg_X"
      },
      "source": [
        "### Split into 3 datasets"
      ]
    },
    {
      "cell_type": "code",
      "metadata": {
        "id": "aBI7r4KNUg_Y"
      },
      "source": [
        "transactions_binary = transactions.select(\"sessionID\",\"itemID\",\"binary\")\n",
        "transactions_categorical = transactions.select(\"sessionID\",\"itemID\",\"categorical\")\n",
        "transactions_weight = transactions.select(\"sessionID\",\"itemID\",\"weight\")"
      ],
      "execution_count": null,
      "outputs": []
    },
    {
      "cell_type": "code",
      "metadata": {
        "id": "WQ9Y2lIAUg_Y",
        "colab": {
          "base_uri": "https://localhost:8080/"
        },
        "outputId": "57694adc-8ab0-4b64-cc33-fb219d06603f"
      },
      "source": [
        "transactions_binary.show(3)\n",
        "transactions_categorical.show(3)\n",
        "transactions_weight.show(3)"
      ],
      "execution_count": null,
      "outputs": [
        {
          "output_type": "stream",
          "text": [
            "+---------+------+------+\n",
            "|sessionID|itemID|binary|\n",
            "+---------+------+------+\n",
            "|        0| 21310|     1|\n",
            "|        1| 73018|     1|\n",
            "|        2| 19194|     1|\n",
            "+---------+------+------+\n",
            "only showing top 3 rows\n",
            "\n",
            "+---------+------+-----------+\n",
            "|sessionID|itemID|categorical|\n",
            "+---------+------+-----------+\n",
            "|        0| 21310|          1|\n",
            "|        1| 73018|          1|\n",
            "|        2| 19194|          1|\n",
            "+---------+------+-----------+\n",
            "only showing top 3 rows\n",
            "\n",
            "+---------+------+------+\n",
            "|sessionID|itemID|weight|\n",
            "+---------+------+------+\n",
            "|        0| 21310|     1|\n",
            "|        1| 73018|     1|\n",
            "|        2| 19194|     1|\n",
            "+---------+------+------+\n",
            "only showing top 3 rows\n",
            "\n"
          ],
          "name": "stdout"
        }
      ]
    },
    {
      "cell_type": "markdown",
      "metadata": {
        "id": "jusV5G8DUg_Y"
      },
      "source": [
        "### Pivot"
      ]
    },
    {
      "cell_type": "code",
      "metadata": {
        "id": "mIDzSkjVUg_Z"
      },
      "source": [
        "from pyspark.sql.functions import sum"
      ],
      "execution_count": null,
      "outputs": []
    },
    {
      "cell_type": "code",
      "metadata": {
        "id": "QNBE5xNcUg_Z"
      },
      "source": [
        "spark_session.conf.set(\"spark.sql.pivotMaxValues\",25000)"
      ],
      "execution_count": null,
      "outputs": []
    },
    {
      "cell_type": "markdown",
      "metadata": {
        "id": "bokMhOu_Ug_Z"
      },
      "source": [
        "cara pake pivot:\n",
        "https://stackoverflow.com/questions/46809879/convert-pyspark-groupeddata-object-to-spark-dataframe\n",
        "1. groupBy = column\n",
        "2. pivot = row\n",
        "3. agg = cell -> bisa juga pake .count()"
      ]
    },
    {
      "cell_type": "code",
      "metadata": {
        "id": "xvTOFKmcUg_a"
      },
      "source": [
        "pivot_binary = transactions_binary.groupBy(\"itemID\").pivot(\"sessionID\").agg(sum(\"binary\"))"
      ],
      "execution_count": null,
      "outputs": []
    },
    {
      "cell_type": "code",
      "metadata": {
        "id": "3y-tq2VVUg_a"
      },
      "source": [
        "pivot_categorical = transactions_categorical.groupBy(\"itemID\").pivot(\"sessionID\").agg(sum(\"categorical\"))"
      ],
      "execution_count": null,
      "outputs": []
    },
    {
      "cell_type": "code",
      "metadata": {
        "id": "oqRrujPRUg_a"
      },
      "source": [
        "pivot_weight = transactions_weight.groupBy(\"itemID\").pivot(\"sessionID\").agg(sum(\"weight\"))"
      ],
      "execution_count": null,
      "outputs": []
    },
    {
      "cell_type": "code",
      "metadata": {
        "id": "3SJ08HGJUg_a"
      },
      "source": [
        "pivot_binary = pivot_binary.fillna(0)"
      ],
      "execution_count": null,
      "outputs": []
    },
    {
      "cell_type": "code",
      "metadata": {
        "id": "yJreDu3aUg_b"
      },
      "source": [
        "pivot_categorical = pivot_categorical.fillna(0)"
      ],
      "execution_count": null,
      "outputs": []
    },
    {
      "cell_type": "code",
      "metadata": {
        "id": "F9jxBdVUUg_b"
      },
      "source": [
        "pivot_weight = pivot_weight.fillna(0)"
      ],
      "execution_count": null,
      "outputs": []
    },
    {
      "cell_type": "code",
      "metadata": {
        "id": "QkKZmFXgUg_b",
        "colab": {
          "base_uri": "https://localhost:8080/"
        },
        "outputId": "5e90b1bd-52d5-4ae5-c640-3fffc0df2e99"
      },
      "source": [
        "pivot_binary.show()"
      ],
      "execution_count": null,
      "outputs": [
        {
          "output_type": "stream",
          "text": [
            "+------+---+---+---+---+---+---+---+---+---+---+---+---+---+---+---+---+---+---+---+---+---+---+---+---+---+---+---+---+---+---+---+---+---+---+---+---+---+---+---+---+---+---+---+---+---+---+---+---+---+---+---+---+---+---+---+---+---+---+---+---+---+---+---+---+---+---+---+---+---+---+---+---+---+---+---+---+---+\n",
            "|itemID|  0|  1|  2|  3|  4|  5|  6|  7|  8|  9| 10| 11| 12| 13| 14| 15| 16| 17| 18| 19| 20| 21| 22| 23| 24| 25| 26| 27| 28| 29| 30| 31| 32| 34| 35| 36| 37| 38| 39| 40| 41| 42| 43| 44| 45| 46| 47| 48| 49| 50| 51| 52| 53| 54| 55| 56| 57| 58| 59| 60| 61| 62| 63| 64| 65| 66| 67| 68| 69| 70| 71| 72| 73| 74| 75| 76| 77|\n",
            "+------+---+---+---+---+---+---+---+---+---+---+---+---+---+---+---+---+---+---+---+---+---+---+---+---+---+---+---+---+---+---+---+---+---+---+---+---+---+---+---+---+---+---+---+---+---+---+---+---+---+---+---+---+---+---+---+---+---+---+---+---+---+---+---+---+---+---+---+---+---+---+---+---+---+---+---+---+---+\n",
            "| 21310|  1|  0|  0|  0|  0|  0|  0|  0|  0|  0|  0|  0|  0|  0|  0|  0|  0|  0|  0|  0|  0|  0|  0|  0|  0|  0|  0|  0|  0|  0|  0|  0|  0|  0|  0|  0|  0|  0|  0|  0|  0|  0|  0|  0|  0|  0|  0|  0|  0|  0|  0|  0|  0|  0|  0|  0|  0|  0|  0|  0|  0|  0|  0|  0|  0|  0|  0|  0|  0|  0|  0|  0|  0|  0|  0|  0|  0|\n",
            "| 73018|  0|  1|  0|  0|  0|  0|  0|  0|  0|  0|  0|  0|  0|  0|  0|  0|  0|  0|  0|  0|  0|  0|  0|  0|  0|  0|  0|  0|  0|  0|  0|  0|  0|  0|  0|  0|  0|  0|  0|  0|  0|  0|  0|  0|  0|  0|  0|  0|  0|  0|  0|  0|  0|  0|  0|  0|  0|  0|  0|  0|  0|  0|  0|  0|  0|  0|  0|  0|  0|  0|  0|  0|  0|  0|  0|  0|  0|\n",
            "| 19194|  0|  0|  1|  0|  0|  0|  0|  0|  0|  0|  0|  0|  0|  0|  0|  0|  0|  0|  0|  0|  0|  0|  0|  0|  0|  0|  0|  0|  0|  0|  0|  0|  0|  0|  0|  0|  0|  0|  0|  0|  0|  0|  0|  0|  0|  0|  0|  0|  0|  0|  0|  0|  0|  0|  0|  0|  0|  0|  0|  0|  0|  0|  0|  0|  0|  0|  0|  0|  0|  0|  0|  0|  0|  0|  0|  0|  0|\n",
            "| 40250|  0|  0|  0|  1|  0|  0|  0|  0|  0|  0|  0|  0|  0|  0|  0|  0|  0|  0|  0|  0|  0|  0|  0|  0|  0|  0|  0|  0|  0|  0|  0|  0|  0|  0|  0|  0|  0|  0|  0|  0|  0|  0|  0|  0|  0|  0|  0|  0|  0|  0|  0|  0|  0|  0|  0|  0|  0|  0|  0|  0|  0|  0|  0|  0|  0|  0|  0|  0|  0|  0|  0|  0|  0|  0|  0|  0|  0|\n",
            "| 46107|  0|  0|  0|  0|  1|  0|  0|  0|  0|  0|  0|  0|  0|  0|  0|  0|  0|  0|  0|  0|  0|  0|  0|  0|  0|  0|  0|  0|  0|  0|  0|  0|  0|  0|  0|  0|  0|  0|  0|  0|  0|  0|  0|  0|  0|  0|  0|  0|  0|  0|  0|  0|  0|  0|  0|  0|  0|  0|  0|  0|  0|  0|  0|  0|  0|  0|  0|  0|  0|  0|  0|  0|  0|  0|  0|  0|  0|\n",
            "| 34217|  0|  0|  0|  0|  0|  1|  0|  0|  0|  0|  0|  0|  0|  0|  0|  0|  0|  0|  0|  0|  0|  0|  0|  0|  0|  0|  0|  0|  0|  0|  0|  0|  0|  0|  0|  0|  0|  0|  0|  0|  0|  0|  0|  0|  0|  0|  0|  0|  0|  0|  0|  0|  0|  0|  0|  0|  0|  0|  0|  0|  0|  0|  0|  0|  0|  0|  0|  0|  0|  0|  0|  0|  0|  0|  0|  0|  0|\n",
            "| 31436|  0|  0|  0|  0|  0|  0|  1|  0|  0|  0|  0|  0|  0|  0|  0|  0|  0|  0|  0|  0|  0|  0|  0|  0|  0|  0|  0|  0|  0|  0|  0|  0|  0|  0|  0|  0|  0|  0|  0|  0|  0|  0|  0|  0|  0|  0|  0|  0|  0|  0|  0|  0|  0|  0|  0|  0|  0|  0|  0|  0|  0|  0|  0|  0|  0|  0|  0|  0|  0|  0|  0|  0|  0|  0|  0|  0|  0|\n",
            "| 14576|  0|  0|  0|  0|  0|  0|  0|  1|  0|  0|  0|  0|  0|  0|  0|  0|  0|  0|  0|  0|  0|  0|  0|  0|  0|  0|  0|  0|  0|  0|  0|  0|  0|  0|  0|  0|  0|  0|  0|  0|  0|  0|  0|  0|  0|  0|  0|  0|  0|  0|  0|  0|  0|  0|  0|  0|  0|  0|  0|  0|  0|  0|  0|  0|  0|  0|  0|  0|  0|  0|  0|  0|  0|  0|  0|  0|  0|\n",
            "| 17731|  0|  0|  0|  0|  0|  0|  0|  1|  0|  0|  0|  0|  0|  0|  0|  0|  0|  0|  0|  0|  0|  0|  0|  0|  0|  0|  0|  0|  0|  0|  0|  0|  0|  0|  0|  0|  0|  0|  0|  0|  0|  0|  0|  0|  0|  0|  0|  0|  0|  0|  0|  0|  0|  0|  0|  0|  0|  0|  0|  0|  0|  0|  0|  0|  0|  0|  0|  0|  0|  0|  0|  0|  0|  0|  0|  0|  0|\n",
            "| 58723|  0|  0|  0|  0|  0|  0|  0|  0|  1|  0|  0|  0|  0|  0|  0|  0|  0|  0|  0|  0|  0|  0|  0|  0|  0|  0|  0|  0|  0|  0|  0|  0|  0|  0|  0|  0|  0|  0|  0|  0|  0|  0|  0|  0|  0|  0|  0|  0|  0|  0|  0|  0|  0|  0|  0|  0|  0|  0|  0|  0|  0|  0|  0|  0|  0|  0|  0|  0|  0|  0|  0|  0|  0|  0|  0|  0|  0|\n",
            "| 73124|  0|  0|  0|  0|  0|  0|  0|  0|  0|  1|  0|  0|  0|  0|  0|  0|  0|  0|  0|  0|  0|  0|  0|  0|  0|  0|  0|  0|  0|  0|  0|  0|  0|  0|  0|  0|  0|  0|  0|  0|  0|  0|  0|  0|  0|  0|  0|  0|  0|  0|  0|  0|  0|  0|  0|  0|  0|  0|  0|  0|  0|  0|  0|  0|  0|  0|  0|  0|  0|  0|  0|  0|  0|  0|  0|  0|  0|\n",
            "| 33976|  0|  0|  0|  0|  0|  0|  0|  0|  0|  0|  1|  0|  0|  0|  0|  0|  0|  0|  0|  0|  0|  0|  0|  0|  0|  0|  0|  0|  0|  0|  0|  0|  0|  0|  0|  0|  0|  0|  0|  0|  0|  0|  0|  0|  0|  0|  0|  0|  0|  0|  0|  0|  0|  0|  0|  0|  0|  0|  0|  0|  0|  0|  0|  0|  0|  0|  0|  0|  0|  0|  0|  0|  0|  0|  0|  0|  0|\n",
            "|  2408|  0|  0|  0|  0|  0|  0|  0|  0|  0|  0|  0|  0|  0|  0|  0|  0|  0|  0|  0|  0|  0|  0|  0|  0|  0|  0|  0|  0|  0|  0|  0|  0|  0|  0|  0|  0|  0|  0|  0|  0|  0|  0|  0|  0|  0|  0|  0|  0|  0|  0|  0|  0|  0|  0|  0|  0|  0|  0|  0|  0|  0|  0|  0|  0|  0|  0|  0|  0|  0|  0|  0|  0|  0|  0|  0|  0|  0|\n",
            "| 30277|  0|  0|  0|  0|  0|  0|  0|  0|  0|  0|  0|  0|  1|  0|  0|  0|  0|  0|  0|  0|  0|  0|  0|  0|  0|  0|  0|  0|  0|  0|  0|  0|  0|  0|  0|  0|  0|  0|  0|  0|  0|  0|  0|  0|  0|  0|  0|  0|  0|  0|  0|  0|  0|  0|  0|  0|  0|  0|  0|  0|  0|  0|  0|  0|  0|  0|  0|  0|  0|  0|  0|  0|  0|  0|  0|  0|  0|\n",
            "| 29508|  0|  0|  0|  0|  0|  0|  0|  0|  0|  0|  0|  0|  1|  0|  0|  0|  0|  0|  0|  0|  0|  0|  0|  0|  0|  0|  0|  0|  0|  0|  0|  0|  0|  0|  0|  0|  0|  0|  0|  0|  0|  0|  0|  0|  0|  0|  0|  0|  0|  0|  0|  0|  0|  0|  0|  0|  0|  0|  0|  0|  0|  0|  0|  0|  0|  0|  0|  0|  0|  0|  0|  0|  0|  0|  0|  0|  0|\n",
            "| 75659|  0|  0|  0|  0|  0|  0|  0|  0|  0|  0|  0|  0|  1|  0|  0|  0|  0|  0|  0|  0|  0|  0|  0|  0|  0|  0|  0|  0|  0|  0|  0|  0|  0|  0|  0|  0|  0|  0|  0|  0|  0|  0|  0|  0|  0|  0|  0|  0|  0|  0|  0|  0|  0|  0|  0|  0|  0|  0|  0|  0|  0|  0|  0|  0|  0|  0|  0|  0|  0|  0|  0|  0|  0|  0|  0|  0|  0|\n",
            "| 55699|  0|  0|  0|  0|  0|  0|  0|  0|  0|  0|  0|  0|  0|  0|  0|  0|  0|  0|  0|  0|  0|  0|  0|  0|  0|  0|  0|  0|  0|  0|  0|  0|  0|  0|  0|  0|  0|  0|  0|  0|  0|  0|  0|  0|  0|  0|  0|  0|  0|  0|  0|  0|  0|  0|  0|  0|  0|  0|  0|  0|  0|  0|  0|  0|  0|  0|  0|  0|  0|  0|  0|  0|  0|  0|  0|  0|  0|\n",
            "| 62433|  0|  0|  0|  0|  0|  0|  0|  0|  0|  0|  0|  0|  0|  1|  0|  0|  0|  0|  0|  0|  0|  0|  0|  0|  0|  0|  0|  0|  0|  0|  0|  0|  0|  0|  0|  0|  0|  0|  0|  0|  0|  0|  0|  0|  0|  0|  0|  0|  0|  0|  0|  0|  0|  0|  0|  0|  0|  0|  0|  0|  0|  0|  0|  0|  0|  0|  0|  0|  0|  0|  0|  0|  0|  0|  0|  0|  0|\n",
            "| 72603|  0|  0|  0|  0|  0|  0|  0|  0|  0|  0|  0|  0|  0|  1|  0|  0|  0|  0|  0|  0|  0|  0|  0|  0|  0|  0|  0|  0|  0|  0|  0|  0|  0|  0|  0|  0|  0|  0|  0|  0|  0|  0|  0|  0|  0|  0|  0|  0|  0|  0|  0|  0|  0|  0|  0|  0|  0|  0|  0|  0|  0|  0|  0|  0|  0|  0|  0|  0|  0|  0|  0|  0|  0|  0|  0|  0|  0|\n",
            "| 11989|  0|  0|  0|  0|  0|  0|  0|  0|  0|  0|  0|  0|  0|  0|  1|  0|  0|  0|  0|  0|  0|  0|  0|  0|  0|  0|  0|  0|  0|  0|  0|  0|  0|  0|  0|  0|  0|  0|  0|  0|  0|  0|  0|  0|  0|  0|  0|  0|  0|  0|  0|  0|  0|  0|  0|  0|  0|  0|  0|  0|  0|  0|  0|  0|  0|  0|  0|  0|  0|  0|  0|  0|  0|  0|  0|  0|  0|\n",
            "+------+---+---+---+---+---+---+---+---+---+---+---+---+---+---+---+---+---+---+---+---+---+---+---+---+---+---+---+---+---+---+---+---+---+---+---+---+---+---+---+---+---+---+---+---+---+---+---+---+---+---+---+---+---+---+---+---+---+---+---+---+---+---+---+---+---+---+---+---+---+---+---+---+---+---+---+---+---+\n",
            "only showing top 20 rows\n",
            "\n"
          ],
          "name": "stdout"
        }
      ]
    },
    {
      "cell_type": "markdown",
      "metadata": {
        "id": "xrfMHTBwUg_c"
      },
      "source": [
        "### Dimensionality Reduction"
      ]
    },
    {
      "cell_type": "code",
      "metadata": {
        "id": "KryxP08_Ug_c"
      },
      "source": [
        "from pyspark.mllib.linalg import Vectors\n",
        "from pyspark.mllib.linalg.distributed import RowMatrix"
      ],
      "execution_count": null,
      "outputs": []
    },
    {
      "cell_type": "code",
      "metadata": {
        "id": "pD7atpO1Ug_c"
      },
      "source": [
        "mat_binary = pivot_binary.drop(\"itemID\").rdd.map(lambda s : Vectors.dense(s))"
      ],
      "execution_count": null,
      "outputs": []
    },
    {
      "cell_type": "code",
      "metadata": {
        "id": "v80eP6tAUg_c"
      },
      "source": [
        "mat_categorical = pivot_categorical.drop(\"itemID\").rdd.map(lambda s : Vectors.dense(s))"
      ],
      "execution_count": null,
      "outputs": []
    },
    {
      "cell_type": "code",
      "metadata": {
        "id": "SJFyPtNaUg_d"
      },
      "source": [
        "mat_weight = pivot_weight.drop(\"itemID\").rdd.map(lambda s : Vectors.dense(s))"
      ],
      "execution_count": null,
      "outputs": []
    },
    {
      "cell_type": "code",
      "metadata": {
        "id": "bCLFOpXpUg_d"
      },
      "source": [
        "mat_binary = RowMatrix(mat_binary)"
      ],
      "execution_count": null,
      "outputs": []
    },
    {
      "cell_type": "code",
      "metadata": {
        "id": "47abup8kUg_d"
      },
      "source": [
        "mat_categorical = RowMatrix(mat_categorical)"
      ],
      "execution_count": null,
      "outputs": []
    },
    {
      "cell_type": "code",
      "metadata": {
        "id": "2lkNN3r2Ug_d"
      },
      "source": [
        "mat_weight = RowMatrix(mat_weight)"
      ],
      "execution_count": null,
      "outputs": []
    },
    {
      "cell_type": "markdown",
      "metadata": {
        "id": "HKqGCohcUg_e"
      },
      "source": [
        "### Principal component analysis (PCA)"
      ]
    },
    {
      "cell_type": "code",
      "metadata": {
        "id": "zwXAgPBIUg_e"
      },
      "source": [
        "pca_binary = mat_binary.computePrincipalComponents(5)"
      ],
      "execution_count": null,
      "outputs": []
    },
    {
      "cell_type": "code",
      "metadata": {
        "id": "1yzPXSr1Ug_e"
      },
      "source": [
        "pca_categorical = mat_categorical.computePrincipalComponents(5)"
      ],
      "execution_count": null,
      "outputs": []
    },
    {
      "cell_type": "code",
      "metadata": {
        "id": "aiU7bytuUg_e"
      },
      "source": [
        "pca_weight = mat_weight.computePrincipalComponents(5)"
      ],
      "execution_count": null,
      "outputs": []
    },
    {
      "cell_type": "code",
      "metadata": {
        "id": "wQch2WEGUg_f"
      },
      "source": [
        "projected_binary = mat_binary.multiply(pca_binary)"
      ],
      "execution_count": null,
      "outputs": []
    },
    {
      "cell_type": "code",
      "metadata": {
        "id": "WuLGcVCAUg_f"
      },
      "source": [
        "projected_categorical = mat_binary.multiply(pca_categorical)"
      ],
      "execution_count": null,
      "outputs": []
    },
    {
      "cell_type": "code",
      "metadata": {
        "id": "6vHdl9UTUg_f"
      },
      "source": [
        "projected_weight = mat_binary.multiply(pca_weight)"
      ],
      "execution_count": null,
      "outputs": []
    },
    {
      "cell_type": "code",
      "metadata": {
        "id": "7XyTTKSKUg_f",
        "colab": {
          "base_uri": "https://localhost:8080/"
        },
        "outputId": "fb97604d-8059-4fe4-c993-604aec728070"
      },
      "source": [
        "print(projected_binary.rows.collect())"
      ],
      "execution_count": null,
      "outputs": [
        {
          "output_type": "stream",
          "text": [
            "[DenseVector([0.0099, -0.0102, -0.0, 0.0149, 0.0]), DenseVector([0.0099, -0.0102, -0.0, 0.0149, -0.0]), DenseVector([0.0099, -0.0102, 0.0, 0.0149, 0.0]), DenseVector([0.0099, -0.0102, -0.0, 0.0149, -0.0]), DenseVector([0.0099, -0.0102, -0.0, 0.0149, -0.0]), DenseVector([0.0099, -0.0102, 0.0, 0.0149, 0.0]), DenseVector([0.0099, -0.0102, 0.0, 0.0149, -0.0]), DenseVector([0.0241, -0.0311, -0.0, 0.0634, 0.044]), DenseVector([0.0241, -0.0311, -0.0, 0.0634, 0.044]), DenseVector([0.0099, -0.0102, 0.0, 0.0149, 0.0]), DenseVector([0.0099, -0.0102, -0.0, 0.0149, 0.0]), DenseVector([0.0099, -0.0102, 0.0, 0.0149, 0.0]), DenseVector([0.0, 0.0, 0.0, 0.0, 0.0]), DenseVector([0.0462, -0.0997, 0.6325, -0.7536, -0.0]), DenseVector([0.0462, -0.0997, 0.6325, -0.7536, -0.0]), DenseVector([0.0462, -0.0997, 0.6325, -0.7536, -0.0]), DenseVector([0.0, 0.0, 0.0, 0.0, 0.0]), DenseVector([0.0241, -0.0311, -0.0, 0.0634, 0.3063]), DenseVector([0.0241, -0.0311, -0.0, 0.0634, 0.3063]), DenseVector([0.0241, -0.0311, -0.0, 0.0634, 0.0313]), DenseVector([0.0241, -0.0311, -0.0, 0.0634, 0.0313]), DenseVector([0.0099, -0.0102, -0.0, 0.0149, -0.0]), DenseVector([0.0099, -0.0102, 0.0, 0.0149, -0.0]), DenseVector([0.0099, -0.0102, 0.0, 0.0149, -0.0]), DenseVector([0.0099, -0.0102, -0.0, 0.0149, 0.0]), DenseVector([0.0099, -0.0102, -0.0, 0.0149, 0.0]), DenseVector([0.0, 0.0, 0.0, 0.0, 0.0]), DenseVector([0.0099, -0.0102, -0.0, 0.0149, -0.0]), DenseVector([0.0241, -0.0311, -0.0, 0.0634, -0.6756]), DenseVector([0.0241, -0.0311, -0.0, 0.0634, -0.6756]), DenseVector([0.0099, -0.0102, -0.0, 0.0149, 0.0]), DenseVector([0.0099, -0.0102, -0.0, 0.0149, 0.0]), DenseVector([0.0099, -0.0102, -0.0, 0.0149, -0.0]), DenseVector([0.0099, -0.0102, -0.0, 0.0149, -0.0]), DenseVector([0.0099, -0.0102, 0.0, 0.0149, -0.0]), DenseVector([0.0099, -0.0102, -0.0, 0.0149, -0.0]), DenseVector([0.0241, -0.0311, -0.0, 0.0634, 0.1024]), DenseVector([0.0241, -0.0311, -0.0, 0.0634, 0.1024]), DenseVector([0.0099, -0.0102, -0.0, 0.0149, -0.0]), DenseVector([0.0099, -0.0102, -0.0, 0.0149, -0.0]), DenseVector([0.0462, -0.0997, -0.9487, -0.7536, 0.0]), DenseVector([0.0099, -0.0102, 0.0, 0.0149, 0.0]), DenseVector([0.0099, -0.0102, 0.0, 0.0149, -0.0]), DenseVector([0.0099, -0.0102, -0.0, 0.0149, -0.0]), DenseVector([0.0099, -0.0102, -0.0, 0.0149, -0.0]), DenseVector([0.0462, -0.0997, -0.9487, -0.7536, 0.0]), DenseVector([0.0099, -0.0102, -0.0, 0.0149, -0.0]), DenseVector([0.0099, -0.0102, -0.0, 0.0149, -0.0]), DenseVector([0.0, 0.0, 0.0, 0.0, 0.0]), DenseVector([0.0, 0.0, 0.0, 0.0, 0.0]), DenseVector([0.0, 0.0, 0.0, 0.0, 0.0]), DenseVector([0.0099, -0.0102, -0.0, 0.0149, -0.0]), DenseVector([0.0099, -0.0102, -0.0, 0.0149, -0.0]), DenseVector([0.0099, -0.0102, -0.0, 0.0149, -0.0]), DenseVector([0.0099, -0.0102, -0.0, 0.0149, -0.0]), DenseVector([0.0099, -0.0102, -0.0, 0.0149, -0.0]), DenseVector([0.0099, -0.0102, -0.0, 0.0149, -0.0]), DenseVector([0.0241, -0.0311, -0.0, 0.0634, -0.3614]), DenseVector([0.0241, -0.0311, -0.0, 0.0634, -0.3614]), DenseVector([0.0099, -0.0102, -0.0, 0.0149, -0.0]), DenseVector([0.0099, -0.0102, -0.0, 0.0149, -0.0]), DenseVector([0.0852, 0.983, 0.0, -0.1012, 0.0]), DenseVector([0.0852, 0.983, 0.0, -0.1012, 0.0]), DenseVector([0.0852, 0.983, 0.0, -0.1012, 0.0]), DenseVector([0.0852, 0.983, 0.0, -0.1012, 0.0]), DenseVector([0.0, 0.0, 0.0, 0.0, 0.0]), DenseVector([0.0099, -0.0102, -0.0, 0.0149, -0.0]), DenseVector([0.0099, -0.0102, -0.0, 0.0149, -0.0]), DenseVector([0.0241, -0.0311, -0.0, 0.0634, 0.553]), DenseVector([0.0241, -0.0311, -0.0, 0.0634, 0.553]), DenseVector([0.0, 0.0, 0.0, 0.0, 0.0]), DenseVector([0.0099, -0.0102, -0.0, 0.0149, -0.0]), DenseVector([0.0099, -0.0102, -0.0, 0.0149, -0.0]), DenseVector([0.0099, -0.0102, -0.0, 0.0149, -0.0]), DenseVector([0.0099, -0.0102, -0.0, 0.0149, -0.0]), DenseVector([0.0099, -0.0102, -0.0, 0.0149, -0.0]), DenseVector([0.0099, -0.0102, -0.0, 0.0149, -0.0]), DenseVector([0.0, 0.0, 0.0, 0.0, 0.0]), DenseVector([0.0099, -0.0102, -0.0, 0.0149, -0.0]), DenseVector([0.0099, -0.0102, -0.0, 0.0149, -0.0]), DenseVector([-0.9897, 0.0657, 0.0, -0.0479, 0.0]), DenseVector([-0.9897, 0.0657, 0.0, -0.0479, 0.0]), DenseVector([-0.9897, 0.0657, 0.0, -0.0479, 0.0]), DenseVector([-0.9897, 0.0657, 0.0, -0.0479, 0.0]), DenseVector([0.0, 0.0, 0.0, 0.0, 0.0]), DenseVector([-0.9897, 0.0657, 0.0, -0.0479, 0.0]), DenseVector([-0.9897, 0.0657, 0.0, -0.0479, 0.0]), DenseVector([-0.9897, 0.0657, 0.0, -0.0479, 0.0]), DenseVector([0.0099, -0.0102, -0.0, 0.0149, -0.0]), DenseVector([0.0099, -0.0102, -0.0, 0.0149, -0.0]), DenseVector([0.0099, -0.0102, -0.0, 0.0149, -0.0]), DenseVector([0.0099, -0.0102, -0.0, 0.0149, -0.0]), DenseVector([0.0099, -0.0102, -0.0, 0.0149, -0.0]), DenseVector([0.0099, -0.0102, -0.0, 0.0149, -0.0]), DenseVector([0.0099, -0.0102, -0.0, 0.0149, -0.0]), DenseVector([0.0099, -0.0102, -0.0, 0.0149, -0.0]), DenseVector([0.0099, -0.0102, -0.0, 0.0149, -0.0]), DenseVector([0.0099, -0.0102, -0.0, 0.0149, -0.0])]\n"
          ],
          "name": "stdout"
        }
      ]
    },
    {
      "cell_type": "code",
      "metadata": {
        "id": "QebonqKYUg_g",
        "colab": {
          "base_uri": "https://localhost:8080/"
        },
        "outputId": "51888d7b-7a24-45e1-b365-004319dd25c5"
      },
      "source": [
        "projected_binary.numRows()"
      ],
      "execution_count": null,
      "outputs": [
        {
          "output_type": "execute_result",
          "data": {
            "text/plain": [
              "98"
            ]
          },
          "metadata": {
            "tags": []
          },
          "execution_count": 39
        }
      ]
    },
    {
      "cell_type": "code",
      "metadata": {
        "id": "pvXIKrwfUg_g",
        "colab": {
          "base_uri": "https://localhost:8080/"
        },
        "outputId": "33780809-ab9f-4d57-b5c5-bbb554f61687"
      },
      "source": [
        "projected_binary.numCols()"
      ],
      "execution_count": null,
      "outputs": [
        {
          "output_type": "execute_result",
          "data": {
            "text/plain": [
              "5"
            ]
          },
          "metadata": {
            "tags": []
          },
          "execution_count": 40
        }
      ]
    },
    {
      "cell_type": "code",
      "metadata": {
        "id": "h6PPidFpUg_g",
        "colab": {
          "base_uri": "https://localhost:8080/"
        },
        "outputId": "7a0d298e-5d12-4dbc-9a07-c8168c51f5d3"
      },
      "source": [
        "print(projected_categorical.rows.collect())"
      ],
      "execution_count": null,
      "outputs": [
        {
          "output_type": "stream",
          "text": [
            "[DenseVector([0.0055, -0.0, 0.0057, 0.0067, 0.0058]), DenseVector([0.0055, -0.0, 0.0057, 0.0067, 0.0058]), DenseVector([0.0055, -0.0, 0.0057, 0.0067, 0.0058]), DenseVector([0.0055, -0.0, 0.0057, 0.0067, 0.0058]), DenseVector([0.0055, -0.0, 0.0057, 0.0067, 0.0058]), DenseVector([0.0055, -0.0, 0.0057, 0.0067, 0.0058]), DenseVector([0.0055, -0.0, 0.0057, 0.0067, 0.0058]), DenseVector([0.0306, -0.0, 0.0349, 0.0488, 0.0938]), DenseVector([0.0306, -0.0, 0.0349, 0.0488, 0.0938]), DenseVector([0.0055, -0.0, 0.0057, 0.0067, 0.0058]), DenseVector([0.0055, -0.0, 0.0057, 0.0067, 0.0058]), DenseVector([0.0055, -0.0, 0.0057, 0.0067, 0.0058]), DenseVector([0.0, 0.0, 0.0, 0.0, 0.0]), DenseVector([0.0213, -0.0, 0.0228, 0.0285, 0.0292]), DenseVector([0.0213, -0.0, 0.0228, 0.0285, 0.0292]), DenseVector([0.0213, -0.0, 0.0228, 0.0285, 0.0292]), DenseVector([0.0, 0.0, 0.0, 0.0, 0.0]), DenseVector([0.0123, -0.0, 0.013, 0.0157, 0.0145]), DenseVector([0.0123, -0.0, 0.013, 0.0157, 0.0145]), DenseVector([0.0123, -0.0, 0.013, 0.0157, 0.0145]), DenseVector([0.0123, -0.0, 0.013, 0.0157, 0.0145]), DenseVector([0.2355, 0.7071, -0.6539, -0.1153, -0.0274]), DenseVector([0.0168, -0.0, 0.0184, 0.024, 0.0297]), DenseVector([0.0055, -0.0, 0.0057, 0.0067, 0.0058]), DenseVector([0.0055, -0.0, 0.0057, 0.0067, 0.0058]), DenseVector([0.0055, -0.0, 0.0057, 0.0067, 0.0058]), DenseVector([0.0, 0.0, 0.0, 0.0, 0.0]), DenseVector([0.0055, -0.0, 0.0057, 0.0067, 0.0058]), DenseVector([0.0123, -0.0, 0.013, 0.0157, 0.0145]), DenseVector([0.0123, -0.0, 0.013, 0.0157, 0.0145]), DenseVector([0.0055, -0.0, 0.0057, 0.0067, 0.0058]), DenseVector([0.0055, -0.0, 0.0057, 0.0067, 0.0058]), DenseVector([0.0055, -0.0, 0.0057, 0.0067, 0.0058]), DenseVector([0.0055, -0.0, 0.0057, 0.0067, 0.0058]), DenseVector([0.0055, -0.0, 0.0057, 0.0067, 0.0058]), DenseVector([0.0055, -0.0, 0.0057, 0.0067, 0.0058]), DenseVector([0.1174, -0.0, 0.2213, -0.9629, -0.0541]), DenseVector([0.1174, -0.0, 0.2213, -0.9629, -0.0541]), DenseVector([0.0055, -0.0, 0.0057, 0.0067, 0.0058]), DenseVector([0.0055, -0.0, 0.0057, 0.0067, 0.0058]), DenseVector([0.0537, -0.0, 0.0651, 0.1048, -1.2618]), DenseVector([0.0055, -0.0, 0.0057, 0.0067, 0.0058]), DenseVector([0.0055, -0.0, 0.0057, 0.0067, 0.0058]), DenseVector([0.0055, -0.0, 0.0057, 0.0067, 0.0058]), DenseVector([0.0055, -0.0, 0.0057, 0.0067, 0.0058]), DenseVector([0.0491, -0.0, 0.059, 0.0937, -1.0783]), DenseVector([0.0055, -0.0, 0.0057, 0.0067, 0.0058]), DenseVector([0.0055, -0.0, 0.0057, 0.0067, 0.0058]), DenseVector([0.0, 0.0, 0.0, 0.0, 0.0]), DenseVector([0.0, 0.0, 0.0, 0.0, 0.0]), DenseVector([0.0, 0.0, 0.0, 0.0, 0.0]), DenseVector([0.0055, -0.0, 0.0057, 0.0067, 0.0058]), DenseVector([0.0055, -0.0, 0.0057, 0.0067, 0.0058]), DenseVector([0.0055, -0.0, 0.0057, 0.0067, 0.0058]), DenseVector([0.0055, -0.0, 0.0057, 0.0067, 0.0058]), DenseVector([0.0055, -0.0, 0.0057, 0.0067, 0.0058]), DenseVector([0.0168, -0.0, 0.0184, 0.024, 0.0297]), DenseVector([0.0123, -0.0, 0.013, 0.0157, 0.0145]), DenseVector([0.0123, -0.0, 0.013, 0.0157, 0.0145]), DenseVector([0.0055, -0.0, 0.0057, 0.0067, 0.0058]), DenseVector([0.0055, -0.0, 0.0057, 0.0067, 0.0058]), DenseVector([0.0335, -0.0, 0.0368, 0.048, 0.0594]), DenseVector([0.0335, -0.0, 0.0368, 0.048, 0.0594]), DenseVector([0.0335, -0.0, 0.0368, 0.048, 0.0594]), DenseVector([0.0335, -0.0, 0.0368, 0.048, 0.0594]), DenseVector([0.0, 0.0, 0.0, 0.0, 0.0]), DenseVector([0.0168, -0.0, 0.0184, 0.024, 0.0297]), DenseVector([0.0055, -0.0, 0.0057, 0.0067, 0.0058]), DenseVector([0.0123, -0.0, 0.013, 0.0157, 0.0145]), DenseVector([0.0123, -0.0, 0.013, 0.0157, 0.0145]), DenseVector([0.0, 0.0, 0.0, 0.0, 0.0]), DenseVector([0.0055, -0.0, 0.0057, 0.0067, 0.0058]), DenseVector([0.0055, -0.0, 0.0057, 0.0067, 0.0058]), DenseVector([0.0168, -0.0, 0.0184, 0.024, 0.0297]), DenseVector([0.2355, -0.7071, -0.6539, -0.1153, -0.0274]), DenseVector([0.0055, -0.0, 0.0057, 0.0067, 0.0058]), DenseVector([0.0055, -0.0, 0.0057, 0.0067, 0.0058]), DenseVector([0.0, 0.0, 0.0, 0.0, 0.0]), DenseVector([0.0055, -0.0, 0.0057, 0.0067, 0.0058]), DenseVector([0.0055, -0.0, 0.0057, 0.0067, 0.0058]), DenseVector([-0.9314, 0.0, -0.2936, -0.1671, -0.0553]), DenseVector([-0.9314, 0.0, -0.2936, -0.1671, -0.0553]), DenseVector([-0.9314, 0.0, -0.2936, -0.1671, -0.0553]), DenseVector([-0.9314, 0.0, -0.2936, -0.1671, -0.0553]), DenseVector([0.0, 0.0, 0.0, 0.0, 0.0]), DenseVector([-0.9314, 0.0, -0.2936, -0.1671, -0.0553]), DenseVector([-0.9314, 0.0, -0.2936, -0.1671, -0.0553]), DenseVector([-0.9314, 0.0, -0.2936, -0.1671, -0.0553]), DenseVector([0.0055, -0.0, 0.0057, 0.0067, 0.0058]), DenseVector([0.0055, -0.0, 0.0057, 0.0067, 0.0058]), DenseVector([0.0055, -0.0, 0.0057, 0.0067, 0.0058]), DenseVector([0.0055, -0.0, 0.0057, 0.0067, 0.0058]), DenseVector([0.0055, -0.0, 0.0057, 0.0067, 0.0058]), DenseVector([0.0055, -0.0, 0.0057, 0.0067, 0.0058]), DenseVector([0.0055, -0.0, 0.0057, 0.0067, 0.0058]), DenseVector([0.0055, -0.0, 0.0057, 0.0067, 0.0058]), DenseVector([0.0055, -0.0, 0.0057, 0.0067, 0.0058]), DenseVector([0.0055, -0.0, 0.0057, 0.0067, 0.0058])]\n"
          ],
          "name": "stdout"
        }
      ]
    },
    {
      "cell_type": "code",
      "metadata": {
        "id": "THOIvT1HUg_g",
        "colab": {
          "base_uri": "https://localhost:8080/"
        },
        "outputId": "4c8c42dd-24fc-4cf3-9b8a-53be7a4c0cb7"
      },
      "source": [
        "print(projected_weight.rows.collect())"
      ],
      "execution_count": null,
      "outputs": [
        {
          "output_type": "stream",
          "text": [
            "[DenseVector([0.0, -0.0016, 0.0032, -0.0034, 0.0044]), DenseVector([-0.0, -0.0016, 0.0032, -0.0034, 0.0044]), DenseVector([0.0, -0.0016, 0.0032, -0.0034, 0.0044]), DenseVector([0.0, -0.0016, 0.0032, -0.0034, 0.0044]), DenseVector([-0.0, -0.0016, 0.0032, -0.0034, 0.0044]), DenseVector([0.0, -0.0016, 0.0032, -0.0034, 0.0044]), DenseVector([-0.0, -0.0016, 0.0032, -0.0034, 0.0044]), DenseVector([0.0, -0.0184, 0.0948, -0.3078, -0.9436]), DenseVector([0.0, -0.0184, 0.0948, -0.3078, -0.9436]), DenseVector([-0.0, -0.0016, 0.0032, -0.0034, 0.0044]), DenseVector([0.0, -0.0016, 0.0032, -0.0034, 0.0044]), DenseVector([-0.0, -0.0016, 0.0032, -0.0034, 0.0044]), DenseVector([0.0, 0.0, 0.0, 0.0, 0.0]), DenseVector([-0.0, -0.0096, 0.0237, -0.0279, 0.0389]), DenseVector([-0.0, -0.0096, 0.0237, -0.0279, 0.0389]), DenseVector([-0.0, -0.0096, 0.0237, -0.0279, 0.0389]), DenseVector([0.0, 0.0, 0.0, 0.0, 0.0]), DenseVector([0.0, -0.007, 0.0154, -0.017, 0.0226]), DenseVector([0.0, -0.007, 0.0154, -0.017, 0.0226]), DenseVector([-0.0, -0.0033, 0.0067, -0.0072, 0.0093]), DenseVector([-0.0, -0.0033, 0.0067, -0.0072, 0.0093]), DenseVector([0.0, -0.0055, 0.013, -0.0149, 0.0203]), DenseVector([-0.0, -0.0034, 0.0071, -0.0078, 0.0102]), DenseVector([0.0, -0.0016, 0.0032, -0.0034, 0.0044]), DenseVector([0.0, -0.0016, 0.0032, -0.0034, 0.0044]), DenseVector([0.0, -0.0016, 0.0032, -0.0034, 0.0044]), DenseVector([0.0, 0.0, 0.0, 0.0, 0.0]), DenseVector([0.0, -0.0052, 0.0111, -0.0122, 0.016]), DenseVector([-0.0, -0.0033, 0.0067, -0.0072, 0.0093]), DenseVector([-0.0, -0.0033, 0.0067, -0.0072, 0.0093]), DenseVector([0.0, -0.0016, 0.0032, -0.0034, 0.0044]), DenseVector([0.0, -0.0016, 0.0032, -0.0034, 0.0044]), DenseVector([0.0, -0.0016, 0.0032, -0.0034, 0.0044]), DenseVector([0.0, -0.0016, 0.0032, -0.0034, 0.0044]), DenseVector([0.0, -0.0055, 0.013, -0.0149, 0.0203]), DenseVector([0.0, -0.0016, 0.0032, -0.0034, 0.0044]), DenseVector([-0.0, -0.0073, 0.0166, -0.0188, 0.0253]), DenseVector([-0.0, -0.0073, 0.0166, -0.0188, 0.0253]), DenseVector([0.0, -0.0016, 0.0032, -0.0034, 0.0044]), DenseVector([0.0, -0.0016, 0.0032, -0.0034, 0.0044]), DenseVector([0.0, -0.0121, 0.0325, -0.0404, 0.059]), DenseVector([0.0, -0.0016, 0.0032, -0.0034, 0.0044]), DenseVector([0.0, -0.0016, 0.0032, -0.0034, 0.0044]), DenseVector([0.0, -0.0016, 0.0032, -0.0034, 0.0044]), DenseVector([0.0, -0.0016, 0.0032, -0.0034, 0.0044]), DenseVector([0.0, -0.0123, 0.0334, -0.0418, 0.0612]), DenseVector([0.0, -0.0016, 0.0032, -0.0034, 0.0044]), DenseVector([0.0, -0.0016, 0.0032, -0.0034, 0.0044]), DenseVector([0.0, 0.0, 0.0, 0.0, 0.0]), DenseVector([0.0, 0.0, 0.0, 0.0, 0.0]), DenseVector([0.0, 0.0, 0.0, 0.0, 0.0]), DenseVector([0.0, -0.0016, 0.0032, -0.0034, 0.0044]), DenseVector([0.0, -0.0016, 0.0032, -0.0034, 0.0044]), DenseVector([0.0, -0.0016, 0.0032, -0.0034, 0.0044]), DenseVector([0.0, -0.0016, 0.0032, -0.0034, 0.0044]), DenseVector([0.0, -0.0016, 0.0032, -0.0034, 0.0044]), DenseVector([-0.0, -0.0034, 0.0071, -0.0078, 0.0102]), DenseVector([-0.0, -0.0033, 0.0067, -0.0072, 0.0093]), DenseVector([-0.0, -0.0033, 0.0067, -0.0072, 0.0093]), DenseVector([0.0, -0.0016, 0.0032, -0.0034, 0.0044]), DenseVector([0.0, -0.0016, 0.0032, -0.0034, 0.0044]), DenseVector([-0.0, -0.0285, 0.2253, 0.9305, -0.2734]), DenseVector([-0.0, -0.0285, 0.2253, 0.9305, -0.2734]), DenseVector([-0.0, -0.0285, 0.2253, 0.9305, -0.2734]), DenseVector([-0.0, -0.0285, 0.2253, 0.9305, -0.2734]), DenseVector([0.0, 0.0, 0.0, 0.0, 0.0]), DenseVector([0.7071, 0.7056, -0.0259, 0.0194, -0.0207]), DenseVector([0.0, -0.0016, 0.0032, -0.0034, 0.0044]), DenseVector([0.0, -0.007, 0.0154, -0.017, 0.0226]), DenseVector([0.0, -0.007, 0.0154, -0.017, 0.0226]), DenseVector([0.0, 0.0, 0.0, 0.0, 0.0]), DenseVector([0.0, -0.0016, 0.0032, -0.0034, 0.0044]), DenseVector([0.0, -0.0016, 0.0032, -0.0034, 0.0044]), DenseVector([-0.0, -0.0034, 0.0071, -0.0078, 0.0102]), DenseVector([0.0, -0.0055, 0.013, -0.0149, 0.0203]), DenseVector([0.0, -0.0016, 0.0032, -0.0034, 0.0044]), DenseVector([0.0, -0.0016, 0.0032, -0.0034, 0.0044]), DenseVector([0.0, 0.0, 0.0, 0.0, 0.0]), DenseVector([0.0, -0.0016, 0.0032, -0.0034, 0.0044]), DenseVector([0.0, -0.0016, 0.0032, -0.0034, 0.0044]), DenseVector([0.0, -0.0482, -0.9666, 0.1801, -0.1475]), DenseVector([0.0, -0.0482, -0.9666, 0.1801, -0.1475]), DenseVector([0.0, -0.0482, -0.9666, 0.1801, -0.1475]), DenseVector([0.0, -0.0482, -0.9666, 0.1801, -0.1475]), DenseVector([0.0, 0.0, 0.0, 0.0, 0.0]), DenseVector([0.0, -0.0482, -0.9666, 0.1801, -0.1475]), DenseVector([0.0, -0.0482, -0.9666, 0.1801, -0.1475]), DenseVector([0.0, -0.0482, -0.9666, 0.1801, -0.1475]), DenseVector([0.0, -0.0016, 0.0032, -0.0034, 0.0044]), DenseVector([0.0, -0.0016, 0.0032, -0.0034, 0.0044]), DenseVector([0.0, -0.0016, 0.0032, -0.0034, 0.0044]), DenseVector([0.0, -0.0016, 0.0032, -0.0034, 0.0044]), DenseVector([0.0, -0.0016, 0.0032, -0.0034, 0.0044]), DenseVector([0.0, -0.0016, 0.0032, -0.0034, 0.0044]), DenseVector([0.0, -0.0016, 0.0032, -0.0034, 0.0044]), DenseVector([0.0, -0.0016, 0.0032, -0.0034, 0.0044]), DenseVector([0.0, -0.0016, 0.0032, -0.0034, 0.0044]), DenseVector([0.0, -0.0055, 0.013, -0.0149, 0.0203])]\n"
          ],
          "name": "stdout"
        }
      ]
    }
  ]
}